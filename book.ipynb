{
 "cells": [
  {
   "cell_type": "markdown",
   "metadata": {},
   "source": [
    "## Import Librerie Python"
   ]
  },
  {
   "cell_type": "code",
   "execution_count": 1,
   "metadata": {},
   "outputs": [],
   "source": [
    "import pandas as pd\n",
    "import numpy as np\n",
    "import matplotlib.pyplot as plt"
   ]
  },
  {
   "cell_type": "markdown",
   "metadata": {},
   "source": [
    "# Data Pre-processing"
   ]
  },
  {
   "cell_type": "code",
   "execution_count": 2,
   "metadata": {},
   "outputs": [],
   "source": [
    "df_test = pd.read_csv('./doc/test.csv', sep=';')"
   ]
  },
  {
   "cell_type": "markdown",
   "metadata": {},
   "source": [
    "### Rinominiamo le variabili per renderle più leggibili"
   ]
  },
  {
   "cell_type": "code",
   "execution_count": 3,
   "metadata": {},
   "outputs": [],
   "source": [
    "# General\n",
    "df_test.rename(columns={'Informazioni cronologiche': 'TIME_INFO'}, inplace=True)\n",
    "df_test.rename(columns={'1.Da quale scuola provieni': 'SCUOLA'}, inplace=True)\n",
    "df_test.rename(columns={'2.Quale classe frequenti': 'CLASSE'}, inplace=True)\n",
    "df_test.rename(columns={'3.Età': 'ETA'}, inplace=True)\n",
    "df_test.rename(columns={'4.Genere': 'GENERE'}, inplace=True)\n",
    "df_test.rename(columns={'5.Nazionalità': 'NAZIONALITA'}, inplace=True)\n",
    "\n",
    "# Fear\n",
    "df_test.rename(columns={'Leggi ciascuna frase attentamente e segna una X nella casella accanto alle parole che meglio descrivono la tua paura.\\n1. Essere puniti ': 'Paura (Essere puniti)'}, inplace=True)\n",
    "df_test.rename(columns={'Leggi ciascuna frase attentamente e segna una X nella casella accanto alle parole che meglio descrivono la tua paura.\\n 2. Fare una brutta figura  ': 'Paura (Fare una brutta figura)'}, inplace=True)\n",
    "df_test.rename(columns={'Leggi ciascuna frase attentamente e segna una X nella casella accanto alle parole che meglio descrivono la tua paura.\\n3. Andare in ospedale    ': 'Paura (Andare in ospedale)'}, inplace=True)\n",
    "df_test.rename(columns={'Leggi ciascuna frase attentamente e segna una X nella casella accanto alle parole che meglio descrivono la tua paura.\\n4. Perdere una persona cara': 'Paura (Perdere una persona cara)'}, inplace=True)\n",
    "df_test.rename(columns={'Leggi ciascuna frase attentamente e segna una X nella casella accanto alle parole che meglio descrivono la tua paura.\\n1. Essere puniti ': 'Paura (Essere puniti)'}, inplace=True)\n",
    "df_test.rename(columns={'Leggi ciascuna frase attentamente e segna una X nella casella accanto alle parole che meglio descrivono la tua paura.\\n1. Essere puniti ': 'Paura (Essere puniti)'}, inplace=True)\n",
    "df_test.rename(columns={'Leggi ciascuna frase attentamente e segna una X nella casella accanto alle parole che meglio descrivono la tua paura.\\n5. Ammalarsi ': 'Paura (Ammalarsi)'}, inplace=True)\n",
    "df_test.rename(columns={'Leggi ciascuna frase attentamente e segna una X nella casella accanto alle parole che meglio descrivono la tua paura.\\n6. Incontrare estranei': 'Paura (Incontrare estranei)'}, inplace=True)\n",
    "df_test.rename(columns={'Leggi ciascuna frase attentamente e segna una X nella casella accanto alle parole che meglio descrivono la tua paura.\\n7. Guerra': 'Paura (Guerra)'}, inplace=True)\n",
    "df_test.rename(columns={'Leggi ciascuna frase attentamente e segna una X nella casella accanto alle parole che meglio descrivono la tua paura.\\n8. fare un prelievo/tampone/puntura': 'Paura (fare un prelievo/tampone/puntura)'}, inplace=True)\n",
    "df_test.rename(columns={'Leggi ciascuna frase attentamente e segna una X nella casella accanto alle parole che meglio descrivono la tua paura.\\n9. Cadere da Luoghi alti': 'Paura (Cadere da Luoghi alti)'}, inplace=True)\n",
    "df_test.rename(columns={'Leggi ciascuna frase attentamente e segna una X nella casella accanto alle parole che meglio descrivono la tua paura.\\n10. Essere presi in giro': 'Paura (Essere presi in giro)'}, inplace=True)\n",
    "df_test.rename(columns={'Leggi ciascuna frase attentamente e segna una X nella casella accanto alle parole che meglio descrivono la tua paura.\\n11. Serpenti': 'Paura (Serpenti)'}, inplace=True)\n",
    "df_test.rename(columns={'Leggi ciascuna frase attentamente e segna una X nella casella accanto alle parole che meglio descrivono la tua paura.\\n12. Ladri': 'Paura (Ladri)'}, inplace=True)\n",
    "df_test.rename(columns={'Leggi ciascuna frase attentamente e segna una X nella casella accanto alle parole che meglio descrivono la tua paura.\\n13. Essere interrogati ': 'Paura (Essere interrogati )'}, inplace=True)\n",
    "df_test.rename(columns={'Leggi ciascuna frase attentamente e segna una X nella casella accanto alle parole che meglio descrivono la tua paura.\\n14. Allagamenti': 'Paura (Allagamenti)'}, inplace=True)\n",
    "df_test.rename(columns={'Leggi ciascuna frase attentamente e segna una X nella casella accanto alle parole che meglio descrivono la tua paura.\\n15. Ricevere voti bassi': 'Paura (Ricevere voti bassi)'}, inplace=True)\n",
    "df_test.rename(columns={'Leggi ciascuna frase attentamente e segna una X nella casella accanto alle parole che meglio descrivono la tua paura.\\n16. Essere rimproverati': 'Paura (Essere rimproverati)'}, inplace=True)\n",
    "df_test.rename(columns={'Leggi ciascuna frase attentamente e segna una X nella casella accanto alle parole che meglio descrivono la tua paura.\\n17. Bruciarsi': 'Paura (Bruciarsi)'}, inplace=True)\n",
    "df_test.rename(columns={'Leggi ciascuna frase attentamente e segna una X nella casella accanto alle parole che meglio descrivono la tua paura.\\n18. Tagliarsi o ferirsi': 'Paura (Tagliarsi o ferirsi)'}, inplace=True)\n",
    "df_test.rename(columns={'Leggi ciascuna frase attentamente e segna una X nella casella accanto alle parole che meglio descrivono la tua paura.\\n19. Essere in un luogo affollato': 'Paura (Essere in un luogo affollato)'}, inplace=True)\n",
    "df_test.rename(columns={'Leggi ciascuna frase attentamente e segna una X nella casella accanto alle parole che meglio descrivono la tua paura.\\n20. Temporali': 'Paura (Temporali)'}, inplace=True)\n",
    "df_test.rename(columns={'Leggi ciascuna frase attentamente e segna una X nella casella accanto alle parole che meglio descrivono la tua paura.\\n21. Essere investiti da una macchina o da un camion': 'Paura (Essere investiti da una macchina o da un camion)'}, inplace=True)\n",
    "df_test.rename(columns={'Leggi ciascuna frase attentamente e segna una X nella casella accanto alle parole che meglio descrivono la tua paura.\\n22. Dover andare a scuola': 'Paura (Dover andare a scuola)'}, inplace=True)\n",
    "df_test.rename(columns={'Leggi ciascuna frase attentamente e segna una X nella casella accanto alle parole che meglio descrivono la tua paura.\\n23. Fare giochi violenti': 'Paura (Fare giochi violenti)'}, inplace=True)\n",
    "df_test.rename(columns={'Leggi ciascuna frase attentamente e segna una X nella casella accanto alle parole che meglio descrivono la tua paura.\\n24. Ucraina': 'Paura (Ucraina)'}, inplace=True)\n",
    "df_test.rename(columns={'Leggi ciascuna frase attentamente e segna una X nella casella accanto alle parole che meglio descrivono la tua paura.\\n25. Buio': 'Paura (Buio)'}, inplace=True)\n",
    "df_test.rename(columns={'Leggi ciascuna frase attentamente e segna una X nella casella accanto alle parole che meglio descrivono la tua paura.\\n26. Essere criticati': 'Paura (Essere criticati)'}, inplace=True)\n",
    "df_test.rename(columns={'Leggi ciascuna frase attentamente e segna una X nella casella accanto alle parole che meglio descrivono la tua paura.\\n27. Il sangue ': 'Paura (Il sangue)'}, inplace=True)\n",
    "df_test.rename(columns={'Leggi ciascuna frase attentamente e segna una X nella casella accanto alle parole che meglio descrivono la tua paura.\\n28. Trattenersi a scuola dopo l’orario scolastico': 'Paura (Trattenersi a scuola dopo l\\'orario scolastico)'}, inplace=True)\n",
    "df_test.rename(columns={'Leggi ciascuna frase attentamente e segna una X nella casella accanto alle parole che meglio descrivono la tua paura.\\n29. Russia': 'Paura (Russia)'}, inplace=True)\n",
    "df_test.rename(columns={'Leggi ciascuna frase attentamente e segna una X nella casella accanto alle parole che meglio descrivono la tua paura.\\n30. Pandemia': 'Paura (Pandemia)'}, inplace=True)\n",
    "df_test.rename(columns={'Leggi ciascuna frase attentamente e segna una X nella casella accanto alle parole che meglio descrivono la tua paura.\\n31. Sbagliare': 'Paura (Sbagliare)'}, inplace=True)\n",
    "df_test.rename(columns={'Leggi ciascuna frase attentamente e segna una X nella casella accanto alle parole che meglio descrivono la tua paura.\\n32. DAD': 'Paura (DAD)'}, inplace=True)\n",
    "df_test.rename(columns={'Leggi ciascuna frase attentamente e segna una X nella casella accanto alle parole che meglio descrivono la tua paura.\\n33. Videogames violenti': 'Paura (Videogames violenti)'}, inplace=True)\n",
    "df_test.rename(columns={'Leggi ciascuna frase attentamente e segna una X nella casella accanto alle parole che meglio descrivono la tua paura.\\n34. Film horror': 'Paura (Film horror)'}, inplace=True)\n",
    "df_test.rename(columns={'Leggi ciascuna frase attentamente e segna una X nella casella accanto alle parole che meglio descrivono la tua paura.\\n35. Sirene di ambulanza e/o polizia': 'Paura (Sirene di ambulanza e/o polizia)'}, inplace=True)\n",
    "df_test.rename(columns={'Leggi ciascuna frase attentamente e segna una X nella casella accanto alle parole che meglio descrivono la tua paura.\\n36. Terremoti': 'Paura (Terremoti)'}, inplace=True)\n",
    "df_test.rename(columns={'Leggi ciascuna frase attentamente e segna una X nella casella accanto alle parole che meglio descrivono la tua paura.\\n37. Covid 19': 'Paura (Covid 19)'}, inplace=True)\n",
    "df_test.rename(columns={'Leggi ciascuna frase attentamente e segna una X nella casella accanto alle parole che meglio descrivono la tua paura.\\n38. Spazi chiusi': 'Paura (Spazi chiusi)'}, inplace=True)\n",
    "df_test.rename(columns={'Leggi ciascuna frase attentamente e segna una X nella casella accanto alle parole che meglio descrivono la tua paura.\\n39. Terroristi': 'Paura (Terroristi)'}, inplace=True)\n",
    "df_test.rename(columns={'Leggi ciascuna frase attentamente e segna una X nella casella accanto alle parole che meglio descrivono la tua paura.\\n40. Non riuscire a respirare/soffocare': 'Paura (Non riuscire a respirare/soffocare)'}, inplace=True)\n",
    "df_test.rename(columns={'Leggi ciascuna frase attentamente e segna una X nella casella accanto alle parole che meglio descrivono la tua paura.\\n41. Affogare': 'Paura (Affogare)'}, inplace=True)\n",
    "df_test.rename(columns={'Leggi ciascuna frase attentamente e segna una X nella casella accanto alle parole che meglio descrivono la tua paura.\\n42. Rimanere da soli': 'Paura (Rimanere da soli)'}, inplace=True)\n",
    "df_test.rename(columns={'43. Atro (Specificare)': 'Paura (Altro)'}, inplace=True)\n",
    "\n",
    "# Behaviors\n",
    "df_test.rename(columns={'Leggi ciascuna frase attentamente e segna una X nella casella accanto alle parole che meglio esprimono il tuo modo di pensare.\\n\\n1. Gettare le carte per strada                                               ': 'Senso Civile (Gettare le carte per strada)'}, inplace=True)\n",
    "df_test.rename(columns={'Leggi ciascuna frase attentamente e segna una X nella casella accanto alle parole che meglio esprimono il tuo modo di pensare.\\n\\n2. Lasciare i rifiuti dove capita                               ': 'Senso Civile (Lasciare i rifiuti dove capita)'}, inplace=True)\n",
    "df_test.rename(columns={'Leggi ciascuna frase attentamente e segna una X nella casella accanto alle parole che meglio esprimono il tuo modo di pensare. \\n\\n3. Gettare mozziconi di sigarette a terra            ': 'Senso Civile (Gettare mozziconi di sigarette a terra)'}, inplace=True)\n",
    "df_test.rename(columns={'Leggi ciascuna frase attentamente e segna una X nella casella accanto alle parole che meglio esprimono il tuo modo di pensare. \\n\\n4. Imbrattare i muri ed i mezzi pubblici (treni,pullman)                    ': 'Senso Civile (Imbrattare i muri ed i mezzi pubblici (treni,pullman))'}, inplace=True)\n",
    "df_test.rename(columns={'Leggi ciascuna frase attentamente e segna una X nella casella accanto alle parole che meglio esprimono il tuo modo di pensare. \\n\\n5. Non fare la raccolta differenziata            ': 'Senso Civile (Non fare la raccolta differenziata)'}, inplace=True)\n",
    "df_test.rename(columns={'Leggi ciascuna frase attentamente e segna una X nella casella accanto alle parole che meglio esprimono il tuo modo di pensare. \\n\\n 6. Calpestare i fiori': 'Senso Civile (Calpestare i fiori)'}, inplace=True)\n",
    "df_test.rename(columns={'Leggi ciascuna frase attentamente e segna una X nella casella accanto alle parole che meglio esprimono il tuo modo di pensare\\n\\n7. Accendere fuochi nei boschi ': 'Senso Civile (Accendere fuochi nei boschi)'}, inplace=True)\n",
    "df_test.rename(columns={'Leggi ciascuna frase attentamente e segna una X nella casella accanto alle parole che meglio esprimono il tuo modo di pensare.\\n\\n8. Parcheggiare dove è vietato': 'Senso Civile (Parcheggiare dove è vietato)'}, inplace=True)\n",
    "df_test.rename(columns={'Leggi ciascuna frase attentamente e segna una X nella casella accanto alle parole che meglio esprimono il tuo modo di pensare    \\n\\n9. Viaggiare senza biglietto                                 ': 'Senso Civile (Viaggiare senza biglietto)'}, inplace=True)\n",
    "df_test.rename(columns={'Leggi ciascuna frase attentamente e segna una X nella casella accanto alle parole che meglio esprimono il tuo modo di pensare\\n\\n10. Attraversare con il semaforo rosso              ': 'Senso Civile (Attraversare con il semaforo rosso)'}, inplace=True)\n",
    "df_test.rename(columns={'Leggi ciascuna frase attentamente e segna una X nella casella accanto alle parole che meglio esprimono il tuo modo di pensare\\n\\n11. Attraversare la strada fuori dalle strisce pedonali             ': 'Senso Civile (Attraversare la strada fuori dalle strisce pedonali)'}, inplace=True)\n",
    "df_test.rename(columns={'Leggi ciascuna frase attentamente e segna una X nella casella accanto alle parole che meglio esprimono il tuo modo di pensare \\n\\n12. Non allacciare le cinture di sicurezza               ': 'Senso Civile (Non allacciare le cinture di sicurezza)'}, inplace=True)\n",
    "df_test.rename(columns={'Leggi ciascuna frase attentamente e segna una X nella casella accanto alle parole che meglio esprimono il tuo modo di pensare\\n\\n13. Non indossare il casco              ': 'Senso Civile (Non indossare il casco)'}, inplace=True)\n",
    "df_test.rename(columns={'Leggi ciascuna frase attentamente e segna una X nella casella accanto alle parole che meglio esprimono il tuo modo di pensare\\n\\n14. Maltrattare gli animali                 ': 'Senso Civile (Maltrattare gli animali)'}, inplace=True)\n",
    "df_test.rename(columns={'Leggi ciascuna frase attentamente e segna una X nella casella accanto alle parole che meglio esprimono il tuo modo di pensare\\n\\n15. Non lavare le mani    ': 'Senso Civile (Non lavare le mani)'}, inplace=True)\n",
    "df_test.rename(columns={'Leggi ciascuna frase attentamente e segna una X nella casella accanto alle parole che meglio esprimono il tuo modo di pensare\\n\\n16. Usare il cellulare a scuola': 'Senso Civile (Usare il cellulare a scuola)'}, inplace=True)\n",
    "df_test.rename(columns={'Leggi ciascuna frase attentamente e segna una X nella casella accanto alle parole che meglio esprimono il tuo modo di pensare\\n\\n17. Usare il cellulare a pranzo o cena ': 'Senso Civile (Usare il cellulare a pranzo o cena)'}, inplace=True)\n",
    "df_test.rename(columns={'Leggi ciascuna frase attentamente e segna una X nella casella accanto alle parole che meglio esprimono il tuo modo di pensare\\n\\n18. Dire le parolacce    ': 'Senso Civile (Dire le parolacce)'}, inplace=True)\n",
    "df_test.rename(columns={'Leggi ciascuna frase attentamente e segna una X nella casella accanto alle parole che meglio esprimono il tuo modo di pensare\\n\\n19. Prendere in giro i propri compagni/e           ': 'Senso Civile (Prendere in giro i propri compagni/e)'}, inplace=True)\n",
    "df_test.rename(columns={'Leggi ciascuna frase attentamente e segna una X nella casella accanto alle parole che meglio esprimono il tuo modo di pensare\\n\\n20. Spintonare i propri compagni/e ': 'Senso Civile (Spintonare i propri compagni/e)'}, inplace=True)\n",
    "df_test.rename(columns={'Leggi ciascuna frase attentamente e segna una X nella casella accanto alle parole che meglio esprimono il tuo modo di pensare\\n\\n21. Non aiutare i compagni/e e le altre persone in difficoltà ': 'Senso Civile (Non aiutare i compagni/e e le altre persone in difficoltà)'}, inplace=True)\n",
    "df_test.rename(columns={'Leggi ciascuna frase attentamente e segna una X nella casella accanto alle parole che meglio esprimono il tuo modo di pensare\\n\\n22. Danneggiare gli oggetti altrui': 'Senso Civile (Danneggiare gli oggetti altrui)'}, inplace=True)\n",
    "df_test.rename(columns={'Leggi ciascuna frase attentamente e segna una X nella casella accanto alle parole che meglio esprimono il tuo modo di pensare\\n\\n23. Imbrogliare nel gioco ': 'Senso Civile (Imbrogliare nel gioco)'}, inplace=True)\n",
    "df_test.rename(columns={'24. Altro (Specificare)': 'Senso Civile (Altro)'}, inplace=True)\n",
    "\n",
    "# Mass Media\n",
    "df_test.rename(columns={'1. Possiedi un cellulare?': 'POSSIEDI_CELLULARE'}, inplace=True)\n",
    "df_test.rename(columns={'2. Utilizzi un cellulare?': 'USI_CELLULARE'}, inplace=True)\n",
    "df_test.rename(columns={'3. Che uso ne fai?  ': 'USO_CELLULARE'}, inplace=True)\n",
    "df_test.rename(columns={'4. Quali giochi fai con il cellulare?': 'VIDEOGAMES_CELLULARE'}, inplace=True)\n",
    "df_test.rename(columns={'1. Quanto tempo guardi la TV?                                ': 'TEMPO_TV'}, inplace=True)\n",
    "df_test.rename(columns={'2. Quali programmi preferisci?                                ': 'PROGRAMMI_TV'}, inplace=True)\n",
    "df_test.rename(columns={'1. Giochi ai Videogames?': 'VIDEOGAMES'}, inplace=True)\n",
    "df_test.rename(columns={'2.Quanto tempo giochi ai videogames?          ': 'TEMPO_VIDEOGAMES'}, inplace=True)\n",
    "df_test.rename(columns={'1.Hai playstation o giochi elettronici ( Wii, XBox, Nintendo Swich)?                                ': 'VIDEOGAMES_ELETTRONICI'}, inplace=True)\n",
    "df_test.rename(columns={'3. Quanto tempo giochi?                               ': 'TEMPO_VIDEOGAMES_ELETTRONICI'}, inplace=True)\n",
    "df_test.rename(columns={'2. Di che genere?                            ': 'GENERE_VIDEOGAMES_ELETTRONICI'}, inplace=True)\n",
    "df_test.rename(columns={'1. Frequenti gruppi social?': 'SOCIAL'}, inplace=True)\n",
    "df_test.rename(columns={'2. Quali?                                                    ': 'SOCIAL_PLATFORM'}, inplace=True)\n",
    "df_test.rename(columns={'3. Per quanto tempo sei connesso?': 'TEMPO_SOCIAL'}, inplace=True)\n",
    "df_test.rename(columns={'4.Segui delle/degli influencer?                                                                             ': 'FOLLOW_INFLUENCERS'}, inplace=True)\n",
    "df_test.rename(columns={'1. Secondo te le informazioni su internet sono                                            ': 'INFORMAZIONI_INTERNET'}, inplace=True)\n",
    "df_test.rename(columns={'2. Secondo te le informazioni TV sono                                                     ': 'INFORMAZIONI_TV'}, inplace=True)"
   ]
  },
  {
   "cell_type": "markdown",
   "metadata": {},
   "source": [
    "### Data Construction - Creazione di nuove variabili da quelle esistenti"
   ]
  },
  {
   "cell_type": "code",
   "execution_count": 7,
   "metadata": {},
   "outputs": [],
   "source": [
    "df_test.to_csv('./test.csv', sep=';')"
   ]
  },
  {
   "cell_type": "markdown",
   "metadata": {},
   "source": [
    "- Programmi TV: In seguito viene mostrato i programmi TV inseriti dagli utenti"
   ]
  },
  {
   "cell_type": "code",
   "execution_count": null,
   "metadata": {},
   "outputs": [
    {
     "name": "stdout",
     "output_type": "stream",
     "text": [
      "['Anime' 'Cartoni animati' 'Cartoni violenti' 'Documentari'\n",
      " 'Film/ serie TV' 'Guardare le partite di calcio oltre allo sport'\n",
      " 'Mare fuori' 'Mercoledi addamas' 'Musica' 'Netflix '\n",
      " 'Programmi di cucina' 'Programmi di intrattenimento/ Varietà'\n",
      " 'Reality show' 'Sport' 'Telegiornale' 'Video' 'Videogiochi'\n",
      " 'serie/film su netflix' 'video di thelonegamer' 'youtube']\n"
     ]
    }
   ],
   "source": [
    "inner_tv_programme = []\n",
    "for x in df_test['PROGRAMMI_TV'].unique():\n",
    "    inner_tv_programme.append(x.split(', '))\n",
    "\n",
    "inner_tv_programme = np.unique(np.concatenate(inner_tv_programme))\n",
    "print(inner_tv_programme)\n",
    "\n",
    "\n",
    "#'USO_CELLULARE'\n",
    "#  'VIDEOGAMES_CELLULARE', 'TEMPO_TV', 'PROGRAMMI_TV', 'VIDEOGAMES',\n",
    "#        'TEMPO_VIDEOGAMES', 'VIDEOGAMES_ELETTRONICI',\n",
    "#        'GENERE_VIDEOGAMES_ELETTRONICI', 'TEMPO_VIDEOGAMES_ELETTRONICI',\n",
    "#        'SOCIAL', 'SOCIAL_PLATFORM', 'TEMPO_SOCIAL', 'FOLLOW_INFLUENCERS',\n",
    "#        'INFLUENCERS', 'INFORMAZIONI_INTERNET', 'INFORMAZIONI_TV', '@'],"
   ]
  }
 ],
 "metadata": {
  "kernelspec": {
   "display_name": "Python 3",
   "language": "python",
   "name": "python3"
  },
  "language_info": {
   "codemirror_mode": {
    "name": "ipython",
    "version": 3
   },
   "file_extension": ".py",
   "mimetype": "text/x-python",
   "name": "python",
   "nbconvert_exporter": "python",
   "pygments_lexer": "ipython3",
   "version": "3.10.11"
  }
 },
 "nbformat": 4,
 "nbformat_minor": 2
}
